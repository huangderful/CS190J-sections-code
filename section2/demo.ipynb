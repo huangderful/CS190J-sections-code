{
 "cells": [
  {
   "cell_type": "markdown",
   "id": "4d71fb41",
   "metadata": {},
   "source": [
    "## Summary of boardwork:\n",
    "### Types of Networks, definitions, and properties: Dir, Undir, Bipartite, Hypergraph, Trees, Planar, Cyclic, Acyclic\n",
    "### Graph Connectivity: Connected comps, strongly, weakly\n",
    "### Clustering Coeff\n",
    "### Paths: Radius + Diameter\n",
    "---"
   ]
  },
  {
   "cell_type": "markdown",
   "id": "c9424ff6",
   "metadata": {},
   "source": [
    "### NetworkX generating synthetic graphs\n",
    "https://networkx.org/documentation/stable/reference/generators.html"
   ]
  },
  {
   "cell_type": "code",
   "execution_count": null,
   "id": "d28f630a",
   "metadata": {},
   "outputs": [],
   "source": [
    "import networkx as nx\n",
    "import matplotlib.pyplot as plt\n",
    "n = 5  # 10 nodes\n",
    "\n",
    "# Use seed for reproducibility\n",
    "cycle_graph = nx.cycle_graph(n)"
   ]
  },
  {
   "cell_type": "code",
   "execution_count": null,
   "id": "c47b8d1f",
   "metadata": {},
   "outputs": [],
   "source": [
    "# Draw the graph\n",
    "nx.draw_circular(cycle_graph, with_labels=True, node_color='skyblue', node_size=700, edge_color='gray')\n",
    "plt.title(f\"Cycle Graph with {n} Nodes\")\n",
    "plt.show()"
   ]
  },
  {
   "cell_type": "code",
   "execution_count": null,
   "id": "0f8f7184",
   "metadata": {},
   "outputs": [],
   "source": [
    "r = 3\n",
    "h = 2\n",
    "tree = nx.balanced_tree(r, h)  \n",
    "nx.draw(tree, with_labels=True, node_color='lightgreen', node_size=500)\n",
    "plt.title(f\"{r}-ary tree of hieght {h}\")\n",
    "plt.show()"
   ]
  },
  {
   "cell_type": "code",
   "execution_count": null,
   "id": "9392bc31",
   "metadata": {},
   "outputs": [],
   "source": [
    "cycle = nx.find_cycle(cycle_graph)\n",
    "print(\"Cycle found by find_cycle:\", cycle)"
   ]
  },
  {
   "cell_type": "code",
   "execution_count": null,
   "id": "e360d719",
   "metadata": {},
   "outputs": [],
   "source": [
    "# What will happen?\n",
    "cycle = nx.find_cycle(tree)"
   ]
  },
  {
   "cell_type": "code",
   "execution_count": null,
   "id": "bb2910cd",
   "metadata": {},
   "outputs": [],
   "source": [
    "components = list(nx.connected_components(cycle_graph))\n",
    "print(\"Connected Components:\", components)"
   ]
  },
  {
   "cell_type": "code",
   "execution_count": null,
   "id": "606e8322",
   "metadata": {},
   "outputs": [],
   "source": [
    "components = list(nx.connected_components(tree))\n",
    "print(\"Connected Components:\", components)"
   ]
  },
  {
   "cell_type": "code",
   "execution_count": null,
   "id": "0a47544d",
   "metadata": {},
   "outputs": [],
   "source": [
    "# Get the radius\n",
    "radius = nx.radius(tree)\n",
    "print(\"Radius:\", radius)\n",
    "\n",
    "# Get the center node(s) — these are the nodes that achieve the radius\n",
    "center_nodes = nx.center(tree)\n",
    "print(\"Center node(s):\", center_nodes)"
   ]
  },
  {
   "cell_type": "markdown",
   "id": "9d8e745e",
   "metadata": {},
   "source": [
    "### Clustering Coeff"
   ]
  },
  {
   "cell_type": "code",
   "execution_count": null,
   "id": "1272cad0",
   "metadata": {},
   "outputs": [],
   "source": [
    "import numpy as np\n",
    "import pandas as pd\n",
    "import tqdm as tqdm\n",
    "HUMANNET_PATH = \"../DATA/HumanNet-GSP.tsv\"\n",
    "HUMANNET = pd.read_csv(HUMANNET_PATH, sep=\"\\t\")\n",
    "HUMANNET = HUMANNET[HUMANNET['Gene1'].notna()]\n",
    "# Get the unique list of genes\n",
    "genes = pd.unique(HUMANNET[['Gene1', 'Gene2']].values.ravel())\n",
    "\n",
    "# Create a mapping of genes to indices for the adjacency matrix\n",
    "gene_to_index = {gene: idx for idx, gene in enumerate(genes)}\n",
    "\n",
    "# Initialize a directed adjacency matrix of zeros\n",
    "adj_matrix = np.zeros((len(genes), len(genes)), dtype=int)\n",
    "\n",
    "# Fill the adjacency matrix based on HumanNet edges (directed)\n",
    "for _, row in tqdm.tqdm(HUMANNET.iterrows(), total=len(HUMANNET), desc=\"Processing rows\"):\n",
    "    i, j = gene_to_index[row[\"Gene1\"]], gene_to_index[row[\"Gene2\"]]\n",
    "    adj_matrix[i, j] = 1  # Directed edge from Gene1 → Gene2\n"
   ]
  },
  {
   "cell_type": "code",
   "execution_count": null,
   "id": "6ad34a56",
   "metadata": {},
   "outputs": [],
   "source": [
    "import networkx as nx\n",
    "import tqdm\n",
    "\n",
    "# Initialize a directed graph\n",
    "G = nx.DiGraph()\n",
    "\n",
    "# Add edges from DataFrame\n",
    "for _, row in tqdm.tqdm(HUMANNET.iterrows(), total=len(HUMANNET), desc=\"Building Graph\"):\n",
    "    gene1 = row[\"Gene1\"]\n",
    "    gene2 = row[\"Gene2\"]\n",
    "    G.add_edge(gene1, gene2)\n"
   ]
  },
  {
   "cell_type": "code",
   "execution_count": null,
   "id": "e79cf335",
   "metadata": {},
   "outputs": [],
   "source": [
    "# Convert to undirected graph for clustering analysis\n",
    "G_undirected = G.to_undirected()\n",
    "\n",
    "# Individual node clustering coefficients\n",
    "clustering_per_node = nx.clustering(G_undirected)\n",
    "\n",
    "# Average clustering coefficient\n",
    "avg_clustering = nx.average_clustering(G_undirected)\n",
    "\n",
    "print(\"Average Clustering Coefficient:\", avg_clustering)\n"
   ]
  }
 ],
 "metadata": {
  "kernelspec": {
   "display_name": "graph_env",
   "language": "python",
   "name": "python3"
  },
  "language_info": {
   "codemirror_mode": {
    "name": "ipython",
    "version": 3
   },
   "file_extension": ".py",
   "mimetype": "text/x-python",
   "name": "python",
   "nbconvert_exporter": "python",
   "pygments_lexer": "ipython3",
   "version": "3.12.10"
  }
 },
 "nbformat": 4,
 "nbformat_minor": 5
}
