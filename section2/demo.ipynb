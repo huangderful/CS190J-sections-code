{
 "cells": [
  {
   "cell_type": "markdown",
   "id": "4d71fb41",
   "metadata": {},
   "source": [
    "## Summary of boardwork:\n",
    "### Types of Networks, definitions, and properties: Dir, Undir, Bipartite, Hypergraph, Trees, Planar, Cyclic, Acyclic\n",
    "### Graph Connectivity: Connected comps, strongly, weakly\n",
    "### Clustering Coeff\n",
    "### Paths: Radius + Diameter"
   ]
  },
  {
   "cell_type": "code",
   "execution_count": null,
   "id": "d28f630a",
   "metadata": {},
   "outputs": [
    {
     "ename": "NameError",
     "evalue": "name 'random_num' is not defined",
     "output_type": "error",
     "traceback": [
      "\u001b[31m---------------------------------------------------------------------------\u001b[39m",
      "\u001b[31mNameError\u001b[39m                                 Traceback (most recent call last)",
      "\u001b[36mCell\u001b[39m\u001b[36m \u001b[39m\u001b[32mIn[1]\u001b[39m\u001b[32m, line 2\u001b[39m\n\u001b[32m      1\u001b[39m \u001b[38;5;28;01mimport\u001b[39;00m\u001b[38;5;250m \u001b[39m\u001b[34;01mnetworkx\u001b[39;00m\u001b[38;5;250m \u001b[39m\u001b[38;5;28;01mas\u001b[39;00m\u001b[38;5;250m \u001b[39m\u001b[34;01mnx\u001b[39;00m\n\u001b[32m----> \u001b[39m\u001b[32m2\u001b[39m n = \u001b[43mrandom_num\u001b[49m  \u001b[38;5;66;03m# 10 nodes\u001b[39;00m\n\u001b[32m      3\u001b[39m m = random_num  \u001b[38;5;66;03m# 20 edges\u001b[39;00m\n\u001b[32m      4\u001b[39m \u001b[38;5;66;03m# seed = 42  # seed random number generators for reproducibility\u001b[39;00m\n\u001b[32m      5\u001b[39m \n\u001b[32m      6\u001b[39m \u001b[38;5;66;03m# Use seed for reproducibility\u001b[39;00m\n",
      "\u001b[31mNameError\u001b[39m: name 'random_num' is not defined"
     ]
    }
   ],
   "source": [
    "import networkx as nx\n",
    "n = 5  # 10 nodes\n",
    "# seed = 42  # seed random number generators for reproducibility\n",
    "\n",
    "# Use seed for reproducibility\n",
    "G = nx.cycle_graph(n)"
   ]
  },
  {
   "cell_type": "code",
   "execution_count": null,
   "id": "c47b8d1f",
   "metadata": {},
   "outputs": [],
   "source": []
  }
 ],
 "metadata": {
  "kernelspec": {
   "display_name": "graph_env",
   "language": "python",
   "name": "python3"
  },
  "language_info": {
   "codemirror_mode": {
    "name": "ipython",
    "version": 3
   },
   "file_extension": ".py",
   "mimetype": "text/x-python",
   "name": "python",
   "nbconvert_exporter": "python",
   "pygments_lexer": "ipython3",
   "version": "3.12.10"
  }
 },
 "nbformat": 4,
 "nbformat_minor": 5
}
